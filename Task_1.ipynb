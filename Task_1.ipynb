{
 "cells": [
  {
   "cell_type": "code",
   "execution_count": 86,
   "metadata": {},
   "outputs": [],
   "source": [
    "import numpy as np\n",
    "import pandas as pd\n",
    "from sklearn.compose import make_column_transformer\n",
    "from sklearn.pipeline import make_pipeline\n",
    "from sklearn.impute import SimpleImputer\n",
    "from category_encoders import TargetEncoder\n",
    "from sklearn.preprocessing import OneHotEncoder\n",
    "from sklearn.preprocessing import StandardScaler\n",
    "from sklearn.model_selection import train_test_split\n",
    "from sklearn.model_selection import cross_val_score\n",
    "from sklearn.model_selection import GridSearchCV\n",
    "from sklearn.linear_model import LinearRegression, Ridge, Lasso\n",
    "from sklearn.feature_extraction.text import CountVectorizer, TfidfTransformer"
   ]
  },
  {
   "cell_type": "code",
   "execution_count": 3,
   "metadata": {},
   "outputs": [],
   "source": [
    "df = pd.read_csv(\"winemag-data-130k-v2.csv\")"
   ]
  },
  {
   "cell_type": "code",
   "execution_count": 30,
   "metadata": {},
   "outputs": [],
   "source": [
    "df = df[df['price'].notna()]\n",
    "df = df[df['country'] == 'US']"
   ]
  },
  {
   "cell_type": "code",
   "execution_count": 32,
   "metadata": {
    "scrolled": false
   },
   "outputs": [
    {
     "data": {
      "text/html": [
       "<div>\n",
       "<style scoped>\n",
       "    .dataframe tbody tr th:only-of-type {\n",
       "        vertical-align: middle;\n",
       "    }\n",
       "\n",
       "    .dataframe tbody tr th {\n",
       "        vertical-align: top;\n",
       "    }\n",
       "\n",
       "    .dataframe thead th {\n",
       "        text-align: right;\n",
       "    }\n",
       "</style>\n",
       "<table border=\"1\" class=\"dataframe\">\n",
       "  <thead>\n",
       "    <tr style=\"text-align: right;\">\n",
       "      <th></th>\n",
       "      <th>Unnamed: 0</th>\n",
       "      <th>country</th>\n",
       "      <th>description</th>\n",
       "      <th>designation</th>\n",
       "      <th>points</th>\n",
       "      <th>price</th>\n",
       "      <th>province</th>\n",
       "      <th>region_1</th>\n",
       "      <th>region_2</th>\n",
       "      <th>taster_name</th>\n",
       "      <th>taster_twitter_handle</th>\n",
       "      <th>title</th>\n",
       "      <th>variety</th>\n",
       "      <th>winery</th>\n",
       "    </tr>\n",
       "  </thead>\n",
       "  <tbody>\n",
       "    <tr>\n",
       "      <th>2</th>\n",
       "      <td>2</td>\n",
       "      <td>US</td>\n",
       "      <td>Tart and snappy, the flavors of lime flesh and...</td>\n",
       "      <td>NaN</td>\n",
       "      <td>87</td>\n",
       "      <td>14.0</td>\n",
       "      <td>Oregon</td>\n",
       "      <td>Willamette Valley</td>\n",
       "      <td>Willamette Valley</td>\n",
       "      <td>Paul Gregutt</td>\n",
       "      <td>@paulgwine</td>\n",
       "      <td>Rainstorm 2013 Pinot Gris (Willamette Valley)</td>\n",
       "      <td>Pinot Gris</td>\n",
       "      <td>Rainstorm</td>\n",
       "    </tr>\n",
       "    <tr>\n",
       "      <th>3</th>\n",
       "      <td>3</td>\n",
       "      <td>US</td>\n",
       "      <td>Pineapple rind, lemon pith and orange blossom ...</td>\n",
       "      <td>Reserve Late Harvest</td>\n",
       "      <td>87</td>\n",
       "      <td>13.0</td>\n",
       "      <td>Michigan</td>\n",
       "      <td>Lake Michigan Shore</td>\n",
       "      <td>NaN</td>\n",
       "      <td>Alexander Peartree</td>\n",
       "      <td>NaN</td>\n",
       "      <td>St. Julian 2013 Reserve Late Harvest Riesling ...</td>\n",
       "      <td>Riesling</td>\n",
       "      <td>St. Julian</td>\n",
       "    </tr>\n",
       "    <tr>\n",
       "      <th>4</th>\n",
       "      <td>4</td>\n",
       "      <td>US</td>\n",
       "      <td>Much like the regular bottling from 2012, this...</td>\n",
       "      <td>Vintner's Reserve Wild Child Block</td>\n",
       "      <td>87</td>\n",
       "      <td>65.0</td>\n",
       "      <td>Oregon</td>\n",
       "      <td>Willamette Valley</td>\n",
       "      <td>Willamette Valley</td>\n",
       "      <td>Paul Gregutt</td>\n",
       "      <td>@paulgwine</td>\n",
       "      <td>Sweet Cheeks 2012 Vintner's Reserve Wild Child...</td>\n",
       "      <td>Pinot Noir</td>\n",
       "      <td>Sweet Cheeks</td>\n",
       "    </tr>\n",
       "    <tr>\n",
       "      <th>10</th>\n",
       "      <td>10</td>\n",
       "      <td>US</td>\n",
       "      <td>Soft, supple plum envelopes an oaky structure ...</td>\n",
       "      <td>Mountain Cuvée</td>\n",
       "      <td>87</td>\n",
       "      <td>19.0</td>\n",
       "      <td>California</td>\n",
       "      <td>Napa Valley</td>\n",
       "      <td>Napa</td>\n",
       "      <td>Virginie Boone</td>\n",
       "      <td>@vboone</td>\n",
       "      <td>Kirkland Signature 2011 Mountain Cuvée Caberne...</td>\n",
       "      <td>Cabernet Sauvignon</td>\n",
       "      <td>Kirkland Signature</td>\n",
       "    </tr>\n",
       "    <tr>\n",
       "      <th>12</th>\n",
       "      <td>12</td>\n",
       "      <td>US</td>\n",
       "      <td>Slightly reduced, this wine offers a chalky, t...</td>\n",
       "      <td>NaN</td>\n",
       "      <td>87</td>\n",
       "      <td>34.0</td>\n",
       "      <td>California</td>\n",
       "      <td>Alexander Valley</td>\n",
       "      <td>Sonoma</td>\n",
       "      <td>Virginie Boone</td>\n",
       "      <td>@vboone</td>\n",
       "      <td>Louis M. Martini 2012 Cabernet Sauvignon (Alex...</td>\n",
       "      <td>Cabernet Sauvignon</td>\n",
       "      <td>Louis M. Martini</td>\n",
       "    </tr>\n",
       "  </tbody>\n",
       "</table>\n",
       "</div>"
      ],
      "text/plain": [
       "    Unnamed: 0 country                                        description  \\\n",
       "2            2      US  Tart and snappy, the flavors of lime flesh and...   \n",
       "3            3      US  Pineapple rind, lemon pith and orange blossom ...   \n",
       "4            4      US  Much like the regular bottling from 2012, this...   \n",
       "10          10      US  Soft, supple plum envelopes an oaky structure ...   \n",
       "12          12      US  Slightly reduced, this wine offers a chalky, t...   \n",
       "\n",
       "                           designation  points  price    province  \\\n",
       "2                                  NaN      87   14.0      Oregon   \n",
       "3                 Reserve Late Harvest      87   13.0    Michigan   \n",
       "4   Vintner's Reserve Wild Child Block      87   65.0      Oregon   \n",
       "10                      Mountain Cuvée      87   19.0  California   \n",
       "12                                 NaN      87   34.0  California   \n",
       "\n",
       "               region_1           region_2         taster_name  \\\n",
       "2     Willamette Valley  Willamette Valley        Paul Gregutt   \n",
       "3   Lake Michigan Shore                NaN  Alexander Peartree   \n",
       "4     Willamette Valley  Willamette Valley        Paul Gregutt   \n",
       "10          Napa Valley               Napa      Virginie Boone   \n",
       "12     Alexander Valley             Sonoma      Virginie Boone   \n",
       "\n",
       "   taster_twitter_handle                                              title  \\\n",
       "2            @paulgwine       Rainstorm 2013 Pinot Gris (Willamette Valley)   \n",
       "3                    NaN  St. Julian 2013 Reserve Late Harvest Riesling ...   \n",
       "4            @paulgwine   Sweet Cheeks 2012 Vintner's Reserve Wild Child...   \n",
       "10               @vboone  Kirkland Signature 2011 Mountain Cuvée Caberne...   \n",
       "12               @vboone  Louis M. Martini 2012 Cabernet Sauvignon (Alex...   \n",
       "\n",
       "               variety              winery  \n",
       "2           Pinot Gris           Rainstorm  \n",
       "3             Riesling          St. Julian  \n",
       "4           Pinot Noir        Sweet Cheeks  \n",
       "10  Cabernet Sauvignon  Kirkland Signature  \n",
       "12  Cabernet Sauvignon    Louis M. Martini  "
      ]
     },
     "execution_count": 32,
     "metadata": {},
     "output_type": "execute_result"
    }
   ],
   "source": [
    "df.head()"
   ]
  },
  {
   "cell_type": "code",
   "execution_count": 155,
   "metadata": {},
   "outputs": [
    {
     "data": {
      "text/plain": [
       "Unnamed: 0                 int64\n",
       "country                   object\n",
       "description               object\n",
       "designation               object\n",
       "points                     int64\n",
       "price                    float64\n",
       "province                  object\n",
       "region_1                  object\n",
       "region_2                  object\n",
       "taster_name               object\n",
       "taster_twitter_handle     object\n",
       "title                     object\n",
       "variety                   object\n",
       "winery                    object\n",
       "dtype: object"
      ]
     },
     "execution_count": 155,
     "metadata": {},
     "output_type": "execute_result"
    }
   ],
   "source": [
    "df.dtypes"
   ]
  },
  {
   "cell_type": "markdown",
   "metadata": {},
   "source": [
    "# Task 1.1 Baseline Model\n",
    "#### For task 1.1, we only pick the non-text features, so we dropped 'description' and 'title', both of which are textual data. We also dropped the first column and 'taster twitter handle' because they are unrelated. "
   ]
  },
  {
   "cell_type": "code",
   "execution_count": 33,
   "metadata": {},
   "outputs": [],
   "source": [
    "X_nt, Y = df.drop(labels=[\"Unnamed: 0\", \"description\", \"taster_twitter_handle\", \"title\", \"price\"], axis=1), df[\"price\"]"
   ]
  },
  {
   "cell_type": "code",
   "execution_count": 34,
   "metadata": {},
   "outputs": [],
   "source": [
    "X_train, X_test, y_train, y_test = train_test_split(X_nt, Y, random_state=1)"
   ]
  },
  {
   "cell_type": "code",
   "execution_count": 35,
   "metadata": {},
   "outputs": [],
   "source": [
    "categorical = X_nt.dtypes == object"
   ]
  },
  {
   "cell_type": "code",
   "execution_count": 36,
   "metadata": {},
   "outputs": [],
   "source": [
    "cat_preprocessing = make_pipeline(\n",
    "    SimpleImputer(strategy='most_frequent'),\n",
    "    OneHotEncoder(handle_unknown='ignore'))\n",
    "    \n",
    "cont_preprocessing = make_pipeline(\n",
    "    SimpleImputer(strategy='median'),\n",
    "    StandardScaler())\n",
    "    \n",
    "preprocess = make_column_transformer(\n",
    "    (cat_preprocessing, categorical),\n",
    "    (cont_preprocessing, ~categorical))"
   ]
  },
  {
   "cell_type": "code",
   "execution_count": 37,
   "metadata": {
    "scrolled": true
   },
   "outputs": [
    {
     "data": {
      "text/plain": [
       "0.6448609818113782"
      ]
     },
     "execution_count": 37,
     "metadata": {},
     "output_type": "execute_result"
    }
   ],
   "source": [
    "pipe_ridge = make_pipeline(preprocess, Ridge())\n",
    "scores = cross_val_score(pipe_ridge, X_train, y_train, cv=5)\n",
    "np.mean(scores)"
   ]
  },
  {
   "cell_type": "markdown",
   "metadata": {},
   "source": [
    "# Task 1.2 Simple BOW Model"
   ]
  },
  {
   "cell_type": "code",
   "execution_count": 156,
   "metadata": {},
   "outputs": [],
   "source": [
    "X_t, Y = df[\"description\"], df[\"price\"]"
   ]
  },
  {
   "cell_type": "code",
   "execution_count": 157,
   "metadata": {},
   "outputs": [
    {
     "data": {
      "text/plain": [
       "2         Tart and snappy, the flavors of lime flesh and...\n",
       "3         Pineapple rind, lemon pith and orange blossom ...\n",
       "4         Much like the regular bottling from 2012, this...\n",
       "10        Soft, supple plum envelopes an oaky structure ...\n",
       "12        Slightly reduced, this wine offers a chalky, t...\n",
       "                                ...                        \n",
       "129945    Hailing from one of the more popular vineyards...\n",
       "129949    There's no bones about the use of oak in this ...\n",
       "129950    This opens with herbaceous dollops of thyme an...\n",
       "129952    This Zinfandel from the eastern section of Nap...\n",
       "129967    Citation is given as much as a decade of bottl...\n",
       "Name: description, Length: 54265, dtype: object"
      ]
     },
     "execution_count": 157,
     "metadata": {},
     "output_type": "execute_result"
    }
   ],
   "source": [
    "X_t"
   ]
  },
  {
   "cell_type": "code",
   "execution_count": 158,
   "metadata": {},
   "outputs": [],
   "source": [
    "X_train, X_test, y_train, y_test = train_test_split(X_t, Y, random_state=1)"
   ]
  },
  {
   "cell_type": "code",
   "execution_count": 159,
   "metadata": {},
   "outputs": [],
   "source": [
    "vect = CountVectorizer()\n",
    "X_train_trans = vect.fit_transform(X_train)\n",
    "X_test_trans = vect.transform(X_test)"
   ]
  },
  {
   "cell_type": "code",
   "execution_count": 160,
   "metadata": {},
   "outputs": [],
   "source": [
    "ridge_default = Ridge().fit(X_train_trans, y_train)"
   ]
  },
  {
   "cell_type": "code",
   "execution_count": 161,
   "metadata": {},
   "outputs": [
    {
     "name": "stdout",
     "output_type": "stream",
     "text": [
      "default BOW: 0.28\n"
     ]
    }
   ],
   "source": [
    "print('default BOW: {:.2f}'.format(ridge_default.score(X_test_trans, y_test)))"
   ]
  },
  {
   "cell_type": "markdown",
   "metadata": {},
   "source": [
    "# Task 1.3 Tuning BOW Model\n",
    "#### I tested how n-grams, characters, tf-idf rescaling individually affects performance."
   ]
  },
  {
   "cell_type": "code",
   "execution_count": 71,
   "metadata": {},
   "outputs": [],
   "source": [
    "vect_ngram = CountVectorizer(ngram_range=(1,4))\n",
    "X_train_ngram = vect_ngram.fit_transform(X_train)\n",
    "X_test_ngram = vect_ngram.transform(X_test)"
   ]
  },
  {
   "cell_type": "code",
   "execution_count": 72,
   "metadata": {},
   "outputs": [],
   "source": [
    "ridge_ngram = Ridge().fit(X_train_ngram, y_train)"
   ]
  },
  {
   "cell_type": "code",
   "execution_count": 73,
   "metadata": {
    "scrolled": true
   },
   "outputs": [
    {
     "name": "stdout",
     "output_type": "stream",
     "text": [
      "ngram BOW: 0.40\n"
     ]
    }
   ],
   "source": [
    "print('ngram BOW: {:.2f}'.format(ridge_ngram.score(X_test_ngram, y_test)))"
   ]
  },
  {
   "cell_type": "code",
   "execution_count": 114,
   "metadata": {},
   "outputs": [],
   "source": [
    "vect_char = CountVectorizer(analyzer='char')\n",
    "X_train_char = vect_char.fit_transform(X_train)\n",
    "X_test_char = vect_char.transform(X_test)"
   ]
  },
  {
   "cell_type": "code",
   "execution_count": 115,
   "metadata": {},
   "outputs": [],
   "source": [
    "ridge_char = Ridge().fit(X_train_char, y_train)"
   ]
  },
  {
   "cell_type": "code",
   "execution_count": 116,
   "metadata": {},
   "outputs": [
    {
     "name": "stdout",
     "output_type": "stream",
     "text": [
      "char BOW: 0.20\n"
     ]
    }
   ],
   "source": [
    "print('char BOW: {:.2f}'.format(ridge_char.score(X_test_char, y_test)))"
   ]
  },
  {
   "cell_type": "code",
   "execution_count": 87,
   "metadata": {},
   "outputs": [],
   "source": [
    "vect_tfidf = make_pipeline(CountVectorizer(), TfidfTransformer())\n",
    "X_train_tfidf = vect_tfidf.fit_transform(X_train)\n",
    "X_test_tfidf = vect_tfidf.transform(X_test)"
   ]
  },
  {
   "cell_type": "code",
   "execution_count": 88,
   "metadata": {},
   "outputs": [],
   "source": [
    "ridge_tfidf = Ridge().fit(X_train_tfidf, y_train)"
   ]
  },
  {
   "cell_type": "code",
   "execution_count": 89,
   "metadata": {},
   "outputs": [
    {
     "name": "stdout",
     "output_type": "stream",
     "text": [
      "tfidf BOW: 0.36\n"
     ]
    }
   ],
   "source": [
    "print('tfidf BOW: {:.2f}'.format(ridge_tfidf.score(X_test_tfidf, y_test)))"
   ]
  },
  {
   "cell_type": "markdown",
   "metadata": {},
   "source": [
    "#### Now, combinations"
   ]
  },
  {
   "cell_type": "code",
   "execution_count": 127,
   "metadata": {},
   "outputs": [],
   "source": [
    "vect_combo = CountVectorizer(ngram_range=(1,4), min_df=2)\n",
    "X_train_combo = vect_combo.fit_transform(X_train)\n",
    "X_test_combo = vect_combo.transform(X_test)"
   ]
  },
  {
   "cell_type": "code",
   "execution_count": 128,
   "metadata": {},
   "outputs": [],
   "source": [
    "ridge_combo = Ridge().fit(X_train_combo, y_train)"
   ]
  },
  {
   "cell_type": "code",
   "execution_count": 131,
   "metadata": {},
   "outputs": [
    {
     "name": "stdout",
     "output_type": "stream",
     "text": [
      "combo BOW: 0.29\n"
     ]
    }
   ],
   "source": [
    "print('combo BOW: {:.2f}'.format(ridge_combo.score(X_test_combo, y_test)))"
   ]
  },
  {
   "cell_type": "markdown",
   "metadata": {},
   "source": [
    "# Task 1.4 Text + Non-text Features"
   ]
  },
  {
   "cell_type": "code",
   "execution_count": 132,
   "metadata": {},
   "outputs": [],
   "source": [
    "X, y = df.drop(labels=[\"Unnamed: 0\", \"taster_twitter_handle\", \"title\", \"price\"], axis=1), df[\"price\"]"
   ]
  },
  {
   "cell_type": "code",
   "execution_count": 140,
   "metadata": {},
   "outputs": [],
   "source": [
    "X_train, X_test, y_train, y_test = train_test_split(X, Y, random_state=1)"
   ]
  },
  {
   "cell_type": "code",
   "execution_count": 143,
   "metadata": {},
   "outputs": [
    {
     "data": {
      "text/html": [
       "<div>\n",
       "<style scoped>\n",
       "    .dataframe tbody tr th:only-of-type {\n",
       "        vertical-align: middle;\n",
       "    }\n",
       "\n",
       "    .dataframe tbody tr th {\n",
       "        vertical-align: top;\n",
       "    }\n",
       "\n",
       "    .dataframe thead th {\n",
       "        text-align: right;\n",
       "    }\n",
       "</style>\n",
       "<table border=\"1\" class=\"dataframe\">\n",
       "  <thead>\n",
       "    <tr style=\"text-align: right;\">\n",
       "      <th></th>\n",
       "      <th>country</th>\n",
       "      <th>description</th>\n",
       "      <th>designation</th>\n",
       "      <th>points</th>\n",
       "      <th>province</th>\n",
       "      <th>region_1</th>\n",
       "      <th>region_2</th>\n",
       "      <th>taster_name</th>\n",
       "      <th>variety</th>\n",
       "      <th>winery</th>\n",
       "    </tr>\n",
       "  </thead>\n",
       "  <tbody>\n",
       "    <tr>\n",
       "      <th>23071</th>\n",
       "      <td>US</td>\n",
       "      <td>While this bottling is always interesting, it ...</td>\n",
       "      <td>Sarmento Vineyard</td>\n",
       "      <td>91</td>\n",
       "      <td>California</td>\n",
       "      <td>Santa Lucia Highlands</td>\n",
       "      <td>Central Coast</td>\n",
       "      <td>NaN</td>\n",
       "      <td>Pinot Noir</td>\n",
       "      <td>Windstream</td>\n",
       "    </tr>\n",
       "    <tr>\n",
       "      <th>32875</th>\n",
       "      <td>US</td>\n",
       "      <td>DeLille's D2 red (51% Merlot/38% Cabernet Sauv...</td>\n",
       "      <td>D2</td>\n",
       "      <td>92</td>\n",
       "      <td>Washington</td>\n",
       "      <td>Columbia Valley (WA)</td>\n",
       "      <td>Columbia Valley</td>\n",
       "      <td>Paul Gregutt</td>\n",
       "      <td>Red Blend</td>\n",
       "      <td>DeLille</td>\n",
       "    </tr>\n",
       "    <tr>\n",
       "      <th>100373</th>\n",
       "      <td>US</td>\n",
       "      <td>David and Anna deLaski follow her Austrian her...</td>\n",
       "      <td>Delanda Vineyard</td>\n",
       "      <td>92</td>\n",
       "      <td>California</td>\n",
       "      <td>Santa Ynez Valley</td>\n",
       "      <td>Central Coast</td>\n",
       "      <td>Matt Kettmann</td>\n",
       "      <td>Blaufränkisch</td>\n",
       "      <td>Solminer</td>\n",
       "    </tr>\n",
       "    <tr>\n",
       "      <th>15014</th>\n",
       "      <td>US</td>\n",
       "      <td>This especially ripe and deep style of Barbera...</td>\n",
       "      <td>Estate</td>\n",
       "      <td>91</td>\n",
       "      <td>California</td>\n",
       "      <td>El Dorado</td>\n",
       "      <td>Sierra Foothills</td>\n",
       "      <td>Jim Gordon</td>\n",
       "      <td>Barbera</td>\n",
       "      <td>Miraflores</td>\n",
       "    </tr>\n",
       "    <tr>\n",
       "      <th>93976</th>\n",
       "      <td>US</td>\n",
       "      <td>A tough, gritty, drily astringent wine with fl...</td>\n",
       "      <td>Scoprire</td>\n",
       "      <td>82</td>\n",
       "      <td>California</td>\n",
       "      <td>California</td>\n",
       "      <td>California Other</td>\n",
       "      <td>NaN</td>\n",
       "      <td>Red Blend</td>\n",
       "      <td>Millésimé</td>\n",
       "    </tr>\n",
       "    <tr>\n",
       "      <th>...</th>\n",
       "      <td>...</td>\n",
       "      <td>...</td>\n",
       "      <td>...</td>\n",
       "      <td>...</td>\n",
       "      <td>...</td>\n",
       "      <td>...</td>\n",
       "      <td>...</td>\n",
       "      <td>...</td>\n",
       "      <td>...</td>\n",
       "      <td>...</td>\n",
       "    </tr>\n",
       "    <tr>\n",
       "      <th>120150</th>\n",
       "      <td>US</td>\n",
       "      <td>Very appealing aromas of warm strawberry-cherr...</td>\n",
       "      <td>Best Barrel Blend</td>\n",
       "      <td>91</td>\n",
       "      <td>California</td>\n",
       "      <td>Paso Robles</td>\n",
       "      <td>Central Coast</td>\n",
       "      <td>Matt Kettmann</td>\n",
       "      <td>Syrah-Mourvèdre</td>\n",
       "      <td>Anglim</td>\n",
       "    </tr>\n",
       "    <tr>\n",
       "      <th>78653</th>\n",
       "      <td>US</td>\n",
       "      <td>Composed primarily of Lemberger, this wine is ...</td>\n",
       "      <td>Cote de Columbia</td>\n",
       "      <td>87</td>\n",
       "      <td>Washington</td>\n",
       "      <td>Washington</td>\n",
       "      <td>Washington Other</td>\n",
       "      <td>Sean P. Sullivan</td>\n",
       "      <td>Red Blend</td>\n",
       "      <td>Shooting Star</td>\n",
       "    </tr>\n",
       "    <tr>\n",
       "      <th>12582</th>\n",
       "      <td>US</td>\n",
       "      <td>Crisp apple and pear aromas take a richer, rip...</td>\n",
       "      <td>2nd Degree Medium Sweet</td>\n",
       "      <td>87</td>\n",
       "      <td>New York</td>\n",
       "      <td>Seneca Lake</td>\n",
       "      <td>Finger Lakes</td>\n",
       "      <td>Anna Lee C. Iijima</td>\n",
       "      <td>Riesling</td>\n",
       "      <td>Three Brothers</td>\n",
       "    </tr>\n",
       "    <tr>\n",
       "      <th>29549</th>\n",
       "      <td>US</td>\n",
       "      <td>A minor wine, dry, tannic and awkward, with mo...</td>\n",
       "      <td>Jack London Vineyard</td>\n",
       "      <td>84</td>\n",
       "      <td>California</td>\n",
       "      <td>Sonoma Valley</td>\n",
       "      <td>Sonoma</td>\n",
       "      <td>NaN</td>\n",
       "      <td>Merlot</td>\n",
       "      <td>Kenwood</td>\n",
       "    </tr>\n",
       "    <tr>\n",
       "      <th>79759</th>\n",
       "      <td>US</td>\n",
       "      <td>A good, useful Cabernet, made for balance in l...</td>\n",
       "      <td>NaN</td>\n",
       "      <td>87</td>\n",
       "      <td>California</td>\n",
       "      <td>Napa Valley</td>\n",
       "      <td>Napa</td>\n",
       "      <td>NaN</td>\n",
       "      <td>Cabernet Sauvignon</td>\n",
       "      <td>Sequoia Grove</td>\n",
       "    </tr>\n",
       "  </tbody>\n",
       "</table>\n",
       "<p>40698 rows × 10 columns</p>\n",
       "</div>"
      ],
      "text/plain": [
       "       country                                        description  \\\n",
       "23071       US  While this bottling is always interesting, it ...   \n",
       "32875       US  DeLille's D2 red (51% Merlot/38% Cabernet Sauv...   \n",
       "100373      US  David and Anna deLaski follow her Austrian her...   \n",
       "15014       US  This especially ripe and deep style of Barbera...   \n",
       "93976       US  A tough, gritty, drily astringent wine with fl...   \n",
       "...        ...                                                ...   \n",
       "120150      US  Very appealing aromas of warm strawberry-cherr...   \n",
       "78653       US  Composed primarily of Lemberger, this wine is ...   \n",
       "12582       US  Crisp apple and pear aromas take a richer, rip...   \n",
       "29549       US  A minor wine, dry, tannic and awkward, with mo...   \n",
       "79759       US  A good, useful Cabernet, made for balance in l...   \n",
       "\n",
       "                    designation  points    province               region_1  \\\n",
       "23071         Sarmento Vineyard      91  California  Santa Lucia Highlands   \n",
       "32875                        D2      92  Washington   Columbia Valley (WA)   \n",
       "100373         Delanda Vineyard      92  California      Santa Ynez Valley   \n",
       "15014                    Estate      91  California              El Dorado   \n",
       "93976                  Scoprire      82  California             California   \n",
       "...                         ...     ...         ...                    ...   \n",
       "120150        Best Barrel Blend      91  California            Paso Robles   \n",
       "78653          Cote de Columbia      87  Washington             Washington   \n",
       "12582   2nd Degree Medium Sweet      87    New York            Seneca Lake   \n",
       "29549      Jack London Vineyard      84  California          Sonoma Valley   \n",
       "79759                       NaN      87  California            Napa Valley   \n",
       "\n",
       "                region_2         taster_name             variety  \\\n",
       "23071      Central Coast                 NaN          Pinot Noir   \n",
       "32875    Columbia Valley        Paul Gregutt           Red Blend   \n",
       "100373     Central Coast       Matt Kettmann       Blaufränkisch   \n",
       "15014   Sierra Foothills          Jim Gordon             Barbera   \n",
       "93976   California Other                 NaN           Red Blend   \n",
       "...                  ...                 ...                 ...   \n",
       "120150     Central Coast       Matt Kettmann     Syrah-Mourvèdre   \n",
       "78653   Washington Other    Sean P. Sullivan           Red Blend   \n",
       "12582       Finger Lakes  Anna Lee C. Iijima            Riesling   \n",
       "29549             Sonoma                 NaN              Merlot   \n",
       "79759               Napa                 NaN  Cabernet Sauvignon   \n",
       "\n",
       "                winery  \n",
       "23071       Windstream  \n",
       "32875          DeLille  \n",
       "100373        Solminer  \n",
       "15014       Miraflores  \n",
       "93976        Millésimé  \n",
       "...                ...  \n",
       "120150          Anglim  \n",
       "78653    Shooting Star  \n",
       "12582   Three Brothers  \n",
       "29549          Kenwood  \n",
       "79759    Sequoia Grove  \n",
       "\n",
       "[40698 rows x 10 columns]"
      ]
     },
     "execution_count": 143,
     "metadata": {},
     "output_type": "execute_result"
    }
   ],
   "source": [
    "X_train"
   ]
  },
  {
   "cell_type": "code",
   "execution_count": 153,
   "metadata": {},
   "outputs": [],
   "source": [
    "cat_preprocessing = make_pipeline(\n",
    "    SimpleImputer(strategy='most_frequent'))\n",
    "    \n",
    "cont_preprocessing = make_pipeline(\n",
    "    SimpleImputer(strategy='median'),\n",
    "    StandardScaler())\n",
    "\n",
    "text_preprocessing = make_pipeline(\n",
    "    CountVectorizer(ngram_range=(1,4))\n",
    "    )\n",
    "    \n",
    "preprocess = make_column_transformer(\n",
    "    (text_preprocessing, 'description'),\n",
    "    (cat_preprocessing, categorical),\n",
    "    remainder=cont_preprocessing)"
   ]
  },
  {
   "cell_type": "code",
   "execution_count": 154,
   "metadata": {},
   "outputs": [
    {
     "data": {
      "text/plain": [
       "nan"
      ]
     },
     "execution_count": 154,
     "metadata": {},
     "output_type": "execute_result"
    }
   ],
   "source": [
    "pipe_ridge = make_pipeline(preprocess, Ridge())\n",
    "scores = cross_val_score(pipe_ridge, X_train, y_train, cv=5)\n",
    "np.mean(scores)"
   ]
  },
  {
   "cell_type": "code",
   "execution_count": null,
   "metadata": {},
   "outputs": [],
   "source": []
  }
 ],
 "metadata": {
  "kernelspec": {
   "display_name": "Python 3",
   "language": "python",
   "name": "python3"
  },
  "language_info": {
   "codemirror_mode": {
    "name": "ipython",
    "version": 3
   },
   "file_extension": ".py",
   "mimetype": "text/x-python",
   "name": "python",
   "nbconvert_exporter": "python",
   "pygments_lexer": "ipython3",
   "version": "3.8.1"
  }
 },
 "nbformat": 4,
 "nbformat_minor": 2
}
